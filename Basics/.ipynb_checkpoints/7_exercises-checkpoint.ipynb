{
 "cells": [
  {
   "cell_type": "markdown",
   "metadata": {},
   "source": [
    "# Exercises"
   ]
  },
  {
   "cell_type": "code",
   "execution_count": null,
   "metadata": {},
   "outputs": [],
   "source": [
    "Adding two numbers"
   ]
  },
  {
   "cell_type": "code",
   "execution_count": 5,
   "metadata": {},
   "outputs": [
    {
     "name": "stdout",
     "output_type": "stream",
     "text": [
      "Enter the first number: 10.5\n",
      "Enter the second number: 2\n",
      "The sum of 10.5 and 2 is 12.5\n",
      "The sum of 10.5 and 2 is 10.52\n"
     ]
    }
   ],
   "source": [
    "number1 = input('Enter the first number: ')\n",
    "number2 = input('Enter the second number: ')\n",
    "\n",
    "sum1 = float(number1) + float(number2)\n",
    "sum2 = number1 + number2\n",
    "#sum3 = int(number1) + int(number2)\n",
    "print(\"The sum of {0} and {1} is {2}\".format(number1, number2, sum1))\n",
    "print(\"The sum of {0} and {1} is {2}\".format(number1, number2, sum2))\n",
    "#print(\"The sum of {0} and {1} is {2}\".format(number1, number2, sum3))"
   ]
  },
  {
   "cell_type": "markdown",
   "metadata": {},
   "source": [
    "Print negative numbers in a list"
   ]
  },
  {
   "cell_type": "code",
   "execution_count": 6,
   "metadata": {},
   "outputs": [
    {
     "name": "stdout",
     "output_type": "stream",
     "text": [
      "-2 -12 "
     ]
    }
   ],
   "source": [
    "list = [0, -2, 5, -12]\n",
    "\n",
    "for num in list:\n",
    "    if num < 0:\n",
    "        print(num, end=\" \")"
   ]
  },
  {
   "cell_type": "markdown",
   "metadata": {},
   "source": [
    "Find the length of a string using for loop"
   ]
  },
  {
   "cell_type": "code",
   "execution_count": 14,
   "metadata": {},
   "outputs": [
    {
     "name": "stdout",
     "output_type": "stream",
     "text": [
      "The lenght of string Hello Sanushi is: 13\n",
      "The lenght of string Hello Sanushi! How are you? is: 27\n"
     ]
    }
   ],
   "source": [
    "def displayLength(str):\n",
    "    length = 0\n",
    "    for i in str:\n",
    "        length = length + 1\n",
    "        \n",
    "    print('The lenght of string {0} is: {1}'.format(str, length))\n",
    "        \n",
    "displayLength(\"Hello Sanushi\")\n",
    "displayLength(\"Hello Sanushi! How are you?\")"
   ]
  },
  {
   "cell_type": "markdown",
   "metadata": {},
   "source": [
    "Find the largest number in a list"
   ]
  },
  {
   "cell_type": "code",
   "execution_count": 15,
   "metadata": {},
   "outputs": [
    {
     "name": "stdout",
     "output_type": "stream",
     "text": [
      "Largest number is:  2323\n"
     ]
    }
   ],
   "source": [
    "numbers = [150, 23, -390, 2323]\n",
    "\n",
    "numbers.sort()\n",
    "print('Largest number is: ',  numbers[-1])"
   ]
  },
  {
   "cell_type": "code",
   "execution_count": 16,
   "metadata": {},
   "outputs": [
    {
     "name": "stdout",
     "output_type": "stream",
     "text": [
      "Largest number is:  2323\n"
     ]
    }
   ],
   "source": [
    "print('Largest number is: ', max(numbers))"
   ]
  },
  {
   "cell_type": "code",
   "execution_count": null,
   "metadata": {},
   "outputs": [],
   "source": [
    "# creating empty list\n",
    "list1 = []\n",
    " \n",
    "# asking number of elements to put in list\n",
    "num = int(input(\"Enter number of elements in list: \"))\n",
    " \n",
    "# iterating till num to append elements in list\n",
    "for i in range(1, num + 1):\n",
    "    ele = int(input(\"Enter elements: \"))\n",
    "    list1.append(ele)\n",
    " \n",
    "# print maximum element\n",
    "print(\"Largest element is:\", max(list1))"
   ]
  },
  {
   "cell_type": "code",
   "execution_count": 17,
   "metadata": {},
   "outputs": [
    {
     "name": "stdout",
     "output_type": "stream",
     "text": [
      "Area is 28.278000\n"
     ]
    }
   ],
   "source": [
    "# Python program to find Area of a circle\n",
    "def findArea(r):\n",
    "    PI = 3.142\n",
    "    return PI * (r * r);\n",
    " \n",
    " \n",
    "# Driver method\n",
    "print(\"Area is %.6f\" % findArea(3));"
   ]
  },
  {
   "cell_type": "code",
   "execution_count": null,
   "metadata": {},
   "outputs": [],
   "source": [
    "# Python program to swap two variables \n",
    "x = 80\n",
    "y = 150\n",
    " \n",
    "# Swapping of two variables \n",
    "# Using third variable \n",
    "temp = x\n",
    "x = y\n",
    "y = temp\n",
    " \n",
    "print(\"Value of x:\", x)\n",
    "print(\"Value of y:\", y) "
   ]
  }
 ],
 "metadata": {
  "kernelspec": {
   "display_name": "Python 3",
   "language": "python",
   "name": "python3"
  },
  "language_info": {
   "codemirror_mode": {
    "name": "ipython",
    "version": 3
   },
   "file_extension": ".py",
   "mimetype": "text/x-python",
   "name": "python",
   "nbconvert_exporter": "python",
   "pygments_lexer": "ipython3",
   "version": "3.7.2"
  }
 },
 "nbformat": 4,
 "nbformat_minor": 2
}
