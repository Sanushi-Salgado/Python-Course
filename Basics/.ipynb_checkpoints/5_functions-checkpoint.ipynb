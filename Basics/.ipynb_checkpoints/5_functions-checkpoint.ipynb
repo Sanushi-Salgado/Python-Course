{
 "cells": [
  {
   "cell_type": "code",
   "execution_count": 2,
   "metadata": {},
   "outputs": [
    {
     "name": "stdout",
     "output_type": "stream",
     "text": [
      "Hello Sanushi\n",
      "How are you?\n"
     ]
    }
   ],
   "source": [
    "def printMe(str):\n",
    "    print(str)\n",
    "    return;\n",
    "\n",
    "printMe('Hello Sanushi')\n",
    "printMe('How are you?')"
   ]
  },
  {
   "cell_type": "markdown",
   "metadata": {},
   "source": [
    "Pass by reference vs value"
   ]
  },
  {
   "cell_type": "code",
   "execution_count": 3,
   "metadata": {},
   "outputs": [
    {
     "name": "stdout",
     "output_type": "stream",
     "text": [
      "My list:  [30, 23, 44, 2]\n",
      "Values inside the function:  [30, 23, 44, 2, [1, 2, 3, 40]]\n",
      "Values outside the function:  [30, 23, 44, 2, [1, 2, 3, 40]]\n"
     ]
    }
   ],
   "source": [
    "def addNumbers(list):\n",
    "    list.append([1, 2, 3, 40])\n",
    "    print('Values inside the function: ', list)\n",
    "    return;\n",
    "\n",
    "myList = [30, 23, 44, 2]\n",
    "print('My list: ', myList)\n",
    "addNumbers(myList)\n",
    "print('Values outside the function: ', myList)"
   ]
  },
  {
   "cell_type": "markdown",
   "metadata": {},
   "source": [
    "# Arguments - Required, Keyword, Default"
   ]
  },
  {
   "cell_type": "code",
   "execution_count": 5,
   "metadata": {},
   "outputs": [
    {
     "name": "stdout",
     "output_type": "stream",
     "text": [
      "Name Sanushi\n",
      "Age 72\n",
      "Gender Female\n",
      "Name Spot\n",
      "Age 72\n",
      "Gender Male\n",
      "Name Jack\n",
      "Age 12\n",
      "Gender Male\n"
     ]
    }
   ],
   "source": [
    "def displayDetails(name, age, gender = 'Male'):\n",
    "    print('Name', name)\n",
    "    print('Age', age)\n",
    "    print('Gender', gender)\n",
    "    \n",
    "displayDetails('Sanushi', 72, gender = 'Female')\n",
    "displayDetails(name = 'Spot', age = 72)\n",
    "displayDetails(age = 12, name = 'Jack')"
   ]
  },
  {
   "cell_type": "code",
   "execution_count": null,
   "metadata": {},
   "outputs": [],
   "source": []
  }
 ],
 "metadata": {
  "kernelspec": {
   "display_name": "Python 3",
   "language": "python",
   "name": "python3"
  },
  "language_info": {
   "codemirror_mode": {
    "name": "ipython",
    "version": 3
   },
   "file_extension": ".py",
   "mimetype": "text/x-python",
   "name": "python",
   "nbconvert_exporter": "python",
   "pygments_lexer": "ipython3",
   "version": "3.7.2"
  }
 },
 "nbformat": 4,
 "nbformat_minor": 2
}
